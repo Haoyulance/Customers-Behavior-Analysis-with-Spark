{
 "cells": [
  {
   "cell_type": "markdown",
   "metadata": {},
   "source": [
    "### Load data"
   ]
  },
  {
   "cell_type": "code",
   "execution_count": null,
   "metadata": {},
   "outputs": [],
   "source": [
    "import pyspark.sql.functions as F\n",
    "from pyspark.sql.functions import isnull\n",
    "from pyspark.ml.recommendation import ALS\n",
    "from pyspark.ml.evaluation import RegressionEvaluator\n",
    "import pandas as pd\n",
    "import numpy as np"
   ]
  },
  {
   "cell_type": "code",
   "execution_count": 2,
   "metadata": {},
   "outputs": [
    {
     "data": {
      "text/plain": [
       "DataFrame[uid: int, event: string, song_id: decimal(20,0), date: timestamp]"
      ]
     },
     "execution_count": 2,
     "metadata": {},
     "output_type": "execute_result"
    }
   ],
   "source": [
    "df = spark.read.csv('../data/event_ds.csv',header=True,inferSchema=True).cache()\n",
    "df"
   ]
  },
  {
   "cell_type": "markdown",
   "metadata": {},
   "source": [
    "### Extract features"
   ]
  },
  {
   "cell_type": "code",
   "execution_count": 3,
   "metadata": {
    "scrolled": true
   },
   "outputs": [],
   "source": [
    "D_record = df.filter(F.col('event')=='D').groupBy('uid','event','song_id').count().orderBy('count')\n",
    "P_record = df.filter(F.col('event')=='P').groupBy('uid','event','song_id').count().orderBy('count')\n",
    "D_record = D_record.select(F.col('uid'), F.col('event'), F.col('song_id'), F.col('count').alias('count_D'))\n",
    "P_record = P_record.select(F.col('uid'), F.col('event'), F.col('song_id'), F.col('count').alias('count_P'))"
   ]
  },
  {
   "cell_type": "code",
   "execution_count": 4,
   "metadata": {
    "scrolled": true
   },
   "outputs": [],
   "source": [
    "rating = P_record.join(D_record,on=['uid', 'song_id'],how='full')"
   ]
  },
  {
   "cell_type": "code",
   "execution_count": 5,
   "metadata": {},
   "outputs": [],
   "source": [
    "rating = rating.select(F.col('uid'), F.col('song_id'), F.col('count_P'), F.col('count_D'))"
   ]
  },
  {
   "cell_type": "code",
   "execution_count": 6,
   "metadata": {},
   "outputs": [
    {
     "data": {
      "text/plain": [
       "3066686"
      ]
     },
     "execution_count": 6,
     "metadata": {},
     "output_type": "execute_result"
    }
   ],
   "source": [
    "rating.count()"
   ]
  },
  {
   "cell_type": "code",
   "execution_count": 7,
   "metadata": {
    "scrolled": true
   },
   "outputs": [
    {
     "data": {
      "text/plain": [
       "164309"
      ]
     },
     "execution_count": 7,
     "metadata": {},
     "output_type": "execute_result"
    }
   ],
   "source": [
    "rating.filter(isnull('count_P')).count()"
   ]
  },
  {
   "cell_type": "code",
   "execution_count": 8,
   "metadata": {
    "scrolled": true
   },
   "outputs": [
    {
     "data": {
      "text/plain": [
       "2621780"
      ]
     },
     "execution_count": 8,
     "metadata": {},
     "output_type": "execute_result"
    }
   ],
   "source": [
    "rating.filter(isnull('count_D')).count()"
   ]
  },
  {
   "cell_type": "code",
   "execution_count": 6,
   "metadata": {
    "scrolled": true
   },
   "outputs": [],
   "source": [
    "rating = rating.na.fill(0) \n",
    "# fill the cell with null, which means no (play/download)action about this user for this song"
   ]
  },
  {
   "cell_type": "markdown",
   "metadata": {},
   "source": [
    "### Create Label"
   ]
  },
  {
   "cell_type": "code",
   "execution_count": 8,
   "metadata": {},
   "outputs": [],
   "source": [
    "# create rating\n",
    "rating = rating.withColumn('rating', rating['count_P']*0.5+rating['count_D']*2)"
   ]
  },
  {
   "cell_type": "code",
   "execution_count": 24,
   "metadata": {},
   "outputs": [],
   "source": [
    "# use when().otherwise() to modify specific value in the column\n",
    "from pyspark.sql.functions import when\n",
    "rating = rating.withColumn('rating',when((F.col('rating')>5), 5).otherwise(F.col('rating')))"
   ]
  },
  {
   "cell_type": "markdown",
   "metadata": {},
   "source": [
    "### Clean Data"
   ]
  },
  {
   "cell_type": "code",
   "execution_count": 29,
   "metadata": {
    "scrolled": true
   },
   "outputs": [
    {
     "name": "stdout",
     "output_type": "stream",
     "text": [
      "141.0\n"
     ]
    }
   ],
   "source": [
    "# clean the bot\n",
    "threshold = np.percentile(rating.toPandas()['count_P'],99.9)\n",
    "print(threshold)\n",
    "rating = rating.filter(F.col('count_P') < threshold)"
   ]
  },
  {
   "cell_type": "code",
   "execution_count": 30,
   "metadata": {
    "scrolled": true
   },
   "outputs": [],
   "source": [
    "# change 'song_id' type\n",
    "rating = rating.withColumn('song_id',F.col('song_id').cast('int'))\n",
    "threshold = np.percentile(rating.toPandas()['song_id'], 99.9)\n",
    "rating = rating.filter((F.col('song_id') < threshold)&(F.col('song_id')>=0))\n",
    "\n",
    "#rating.groupBy().max(\"song_id\").show() # find the max number of specific column\n",
    "#rating.describe(['song_id']).show()"
   ]
  },
  {
   "cell_type": "code",
   "execution_count": 31,
   "metadata": {
    "scrolled": true
   },
   "outputs": [],
   "source": [
    "#rating.describe(['rating']).show()\n",
    "rating = rating.orderBy(F.col('uid'))"
   ]
  },
  {
   "cell_type": "markdown",
   "metadata": {},
   "source": [
    "### Build model and predict"
   ]
  },
  {
   "cell_type": "code",
   "execution_count": 32,
   "metadata": {},
   "outputs": [],
   "source": [
    "(train, test) = rating.randomSplit([0.8, 0.2], seed = 1)"
   ]
  },
  {
   "cell_type": "code",
   "execution_count": 38,
   "metadata": {},
   "outputs": [],
   "source": [
    "from pyspark.sql import SQLContext\n",
    "from pyspark.ml.linalg import Vectors, VectorUDT\n",
    "als = ALS(rank = 30, maxIter=10, regParam=0.01, userCol=\"uid\", itemCol=\"song_id\", ratingCol=\"rating\", implicitPrefs=False, \n",
    "          coldStartStrategy=\"drop\")\n",
    "model = als.fit(train)\n"
   ]
  },
  {
   "cell_type": "code",
   "execution_count": 39,
   "metadata": {},
   "outputs": [
    {
     "name": "stdout",
     "output_type": "stream",
     "text": [
      "Root-mean-square error = 1.4849623532656782\n"
     ]
    }
   ],
   "source": [
    "prediction = model.transform(test)\n",
    "evaluator = RegressionEvaluator(metricName=\"rmse\", labelCol=\"rating\",\n",
    "                                predictionCol=\"prediction\")\n",
    "rmse = evaluator.evaluate(prediction)\n",
    "print(\"Root-mean-square error = \" + str(rmse))"
   ]
  },
  {
   "cell_type": "code",
   "execution_count": 47,
   "metadata": {
    "scrolled": true
   },
   "outputs": [
    {
     "name": "stdout",
     "output_type": "stream",
     "text": [
      "+---------+--------------------+\n",
      "|      uid|     recommendations|\n",
      "+---------+--------------------+\n",
      "|124990565|[[4501803, 3.4186...|\n",
      "|149954144|[[6742904, 10.503...|\n",
      "|150174271|[[4302200, 2.4715...|\n",
      "|164304672|[[4842234, 8.2191...|\n",
      "|165428768|[[6816986, 4.9931...|\n",
      "|167077244|[[1215971, 4.3852...|\n",
      "|167571369|[[4501803, 3.5530...|\n",
      "|167572567|[[4501803, 8.6694...|\n",
      "|167574357|[[4573901, 6.0769...|\n",
      "|167577928|[[1215971, 3.9367...|\n",
      "|167579462|[[6332667, 6.7785...|\n",
      "|167579971|[[20868331, 0.999...|\n",
      "|167580596|[[7548, 4.618738]...|\n",
      "|167583357|[[1215971, 1.8285...|\n",
      "|167583863|[[4501803, 3.5242...|\n",
      "|167587488|[[282692, 4.04056...|\n",
      "|167589105|[[474851, 4.35586...|\n",
      "|167593356|[[1215971, 3.3696...|\n",
      "|167593840|[[1215971, 3.7090...|\n",
      "|167595576|[[4501803, 2.4906...|\n",
      "+---------+--------------------+\n",
      "only showing top 20 rows\n",
      "\n"
     ]
    }
   ],
   "source": [
    "userRecs = model.recommendForAllUsers(5)\n",
    "userRecs.show()"
   ]
  },
  {
   "cell_type": "markdown",
   "metadata": {},
   "source": [
    "### Try to recommend top 5 songs for one user"
   ]
  },
  {
   "cell_type": "code",
   "execution_count": 48,
   "metadata": {
    "scrolled": true
   },
   "outputs": [
    {
     "data": {
      "text/plain": [
       "[Row(song_id=4501803, rating=3.4186224937438965),\n",
       " Row(song_id=6403632, rating=2.595127820968628),\n",
       " Row(song_id=1215971, rating=2.5286459922790527),\n",
       " Row(song_id=316421, rating=2.4918084144592285),\n",
       " Row(song_id=7033556, rating=2.4749271869659424)]"
      ]
     },
     "execution_count": 48,
     "metadata": {},
     "output_type": "execute_result"
    }
   ],
   "source": [
    "a = userRecs.filter(F.col('uid')==124990565).toPandas()\n",
    "a['recommendations'][0]"
   ]
  },
  {
   "cell_type": "code",
   "execution_count": 49,
   "metadata": {},
   "outputs": [
    {
     "name": "stdout",
     "output_type": "stream",
     "text": [
      "+---------+-------+-------+-------+------+\n",
      "|      uid|song_id|count_P|count_D|rating|\n",
      "+---------+-------+-------+-------+------+\n",
      "|124990565|4544935|      1|      0|   0.5|\n",
      "|124990565|7185706|      1|      0|   0.5|\n",
      "|124990565|4396732|      2|      0|   1.0|\n",
      "|124990565|6586179|      2|      0|   1.0|\n",
      "|124990565|4318660|      1|      0|   0.5|\n",
      "|124990565|  77260|      3|      0|   1.5|\n",
      "|124990565| 316421|      5|      0|   2.5|\n",
      "|124990565| 897468|      1|      0|   0.5|\n",
      "|124990565| 591718|      1|      0|   0.5|\n",
      "+---------+-------+-------+-------+------+\n",
      "\n"
     ]
    }
   ],
   "source": [
    "# We could see that predicted rating of song 316421 is accurate\n",
    "rating.filter(F.col('uid')==124990565).show()"
   ]
  },
  {
   "cell_type": "code",
   "execution_count": null,
   "metadata": {},
   "outputs": [],
   "source": [
    "# prediction.describe(['prediction']).show()\n",
    "# prediction.describe(['rating']).show()"
   ]
  }
 ],
 "metadata": {
  "kernelspec": {
   "display_name": "Python 3",
   "language": "python",
   "name": "python3"
  },
  "language_info": {
   "codemirror_mode": {
    "name": "ipython",
    "version": 3
   },
   "file_extension": ".py",
   "mimetype": "text/x-python",
   "name": "python",
   "nbconvert_exporter": "python",
   "pygments_lexer": "ipython3",
   "version": "3.6.5"
  }
 },
 "nbformat": 4,
 "nbformat_minor": 2
}
